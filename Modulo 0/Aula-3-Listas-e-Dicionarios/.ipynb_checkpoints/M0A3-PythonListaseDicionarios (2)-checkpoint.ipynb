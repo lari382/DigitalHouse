{
 "cells": [
  {
   "cell_type": "markdown",
   "metadata": {
    "colab_type": "text",
    "id": "EY4nE-u2yDFJ"
   },
   "source": [
    "# Nessa aula vamos discutir a base dos comando do python"
   ]
  },
  {
   "cell_type": "markdown",
   "metadata": {},
   "source": [
    "## 1 - Vamos começar trabalhando manipulando algumas variáveis"
   ]
  },
  {
   "cell_type": "markdown",
   "metadata": {},
   "source": [
    "#### Podemos definir uma variável dando um nome para ela, da seguinte maneira"
   ]
  },
  {
   "cell_type": "code",
   "execution_count": 64,
   "metadata": {
    "colab": {},
    "colab_type": "code",
    "id": "x6EKEfuYyDFK"
   },
   "outputs": [],
   "source": [
    "age = 30"
   ]
  },
  {
   "cell_type": "markdown",
   "metadata": {},
   "source": [
    "#### Podemos imprimir o valor da variável, como?"
   ]
  },
  {
   "cell_type": "code",
   "execution_count": 65,
   "metadata": {
    "colab": {},
    "colab_type": "code",
    "id": "OG63eI7tyDFO"
   },
   "outputs": [
    {
     "name": "stdout",
     "output_type": "stream",
     "text": [
      "30\n"
     ]
    }
   ],
   "source": [
    "print(age)"
   ]
  },
  {
   "cell_type": "markdown",
   "metadata": {},
   "source": [
    "#### Podemos também imprimir a variável sem dar nome a ela."
   ]
  },
  {
   "cell_type": "code",
   "execution_count": 66,
   "metadata": {
    "colab": {},
    "colab_type": "code",
    "id": "H6fICTDCyDFQ"
   },
   "outputs": [
    {
     "name": "stdout",
     "output_type": "stream",
     "text": [
      "30\n"
     ]
    }
   ],
   "source": [
    "print(30)"
   ]
  },
  {
   "cell_type": "markdown",
   "metadata": {},
   "source": [
    "#### Porém quando temos uma variável com nome, temos a grande vantagem de poder mudar seu valor:"
   ]
  },
  {
   "cell_type": "code",
   "execution_count": 67,
   "metadata": {
    "colab": {},
    "colab_type": "code",
    "id": "vcCttoPnyDFT"
   },
   "outputs": [
    {
     "name": "stdout",
     "output_type": "stream",
     "text": [
      "30\n",
      "40\n"
     ]
    }
   ],
   "source": [
    "age = 30\n",
    "print(age)\n",
    "age = 40\n",
    "print(age)"
   ]
  },
  {
   "cell_type": "markdown",
   "metadata": {
    "colab_type": "text",
    "id": "iTjYInYwyDFV"
   },
   "source": [
    "### Boas práticas em relação ao definirmos nomes de variáveis. "
   ]
  },
  {
   "cell_type": "markdown",
   "metadata": {},
   "source": [
    "#### Nomes compostos de variáveis são separados por _ , esse padrão é conhecido como: snake_case in Python. Nomes não podem começar com números, porém podem conter números, se duas variáveis forém mudar de valores sempre usar letras minusculas. "
   ]
  },
  {
   "cell_type": "code",
   "execution_count": 68,
   "metadata": {
    "colab": {},
    "colab_type": "code",
    "id": "7C1eTQqByDFW"
   },
   "outputs": [],
   "source": [
    "friend_age = 23\n",
    "countries_visited = 90"
   ]
  },
  {
   "cell_type": "markdown",
   "metadata": {},
   "source": [
    "#### Se sua variável tiver um valor fixo escrever em letras maiusculas. "
   ]
  },
  {
   "cell_type": "code",
   "execution_count": 69,
   "metadata": {
    "colab": {},
    "colab_type": "code",
    "id": "tVvZjitEyDFY"
   },
   "outputs": [],
   "source": [
    "PI = 3.14159\n",
    "RADIANS_TO_DEGREES = 180 / PI"
   ]
  },
  {
   "cell_type": "markdown",
   "metadata": {
    "colab_type": "text",
    "id": "yph63zhiyDFa"
   },
   "source": [
    "### Vamos falar de números?"
   ]
  },
  {
   "cell_type": "markdown",
   "metadata": {},
   "source": [
    "#### vamos ter dois tipos de número em python."
   ]
  },
  {
   "cell_type": "code",
   "execution_count": 70,
   "metadata": {
    "colab": {},
    "colab_type": "code",
    "id": "lSTyhkDPyDFb"
   },
   "outputs": [],
   "source": [
    "age = 35  # integer\n",
    "PI = 3.14159  # float"
   ]
  },
  {
   "cell_type": "markdown",
   "metadata": {
    "colab": {},
    "colab_type": "code",
    "id": "k7IfTb9iyDFe"
   },
   "source": [
    "#### adicionar o conceito de definição de variáveis "
   ]
  },
  {
   "cell_type": "markdown",
   "metadata": {
    "colab_type": "text",
    "id": "W4lzPxnryDFg"
   },
   "source": [
    "### Operações Matemáticas"
   ]
  },
  {
   "cell_type": "markdown",
   "metadata": {},
   "source": [
    "#### Nada de especial acontece."
   ]
  },
  {
   "cell_type": "code",
   "execution_count": 71,
   "metadata": {
    "colab": {},
    "colab_type": "code",
    "id": "HVZG8X0ryDFh"
   },
   "outputs": [
    {
     "name": "stdout",
     "output_type": "stream",
     "text": [
      "5.0\n"
     ]
    }
   ],
   "source": [
    "maths_operation = 1 + 3 * 4 / 2 - 2\n",
    "print(maths_operation)"
   ]
  },
  {
   "cell_type": "markdown",
   "metadata": {
    "colab": {},
    "colab_type": "code",
    "id": "6S7wb_hLyDFj"
   },
   "source": [
    "#### Se eu tenho apenas números de tipo inteiros por que o resultado foi um número de [tipo](https://www.tutorialspoint.com/python/python_variable_types.htm) float?"
   ]
  },
  {
   "cell_type": "markdown",
   "metadata": {},
   "source": [
    "#### O resultado da divisão é sempre um float."
   ]
  },
  {
   "cell_type": "code",
   "execution_count": 72,
   "metadata": {
    "colab": {},
    "colab_type": "code",
    "id": "ejQ6fipPyDFm"
   },
   "outputs": [
    {
     "name": "stdout",
     "output_type": "stream",
     "text": [
      "4.0\n"
     ]
    }
   ],
   "source": [
    "float_division = 12 / 3\n",
    "print(float_division)"
   ]
  },
  {
   "cell_type": "markdown",
   "metadata": {
    "colab": {},
    "colab_type": "code",
    "id": "limIaofEyDFp"
   },
   "source": [
    "#### E a multiplicação?"
   ]
  },
  {
   "cell_type": "code",
   "execution_count": 73,
   "metadata": {},
   "outputs": [
    {
     "data": {
      "text/plain": [
       "7.5"
      ]
     },
     "execution_count": 73,
     "metadata": {},
     "output_type": "execute_result"
    }
   ],
   "source": [
    "multiplication = 3 * 2.5\n",
    "multiplication"
   ]
  },
  {
   "cell_type": "markdown",
   "metadata": {},
   "source": [
    "#### E se somarmos um inteiro com um float?"
   ]
  },
  {
   "cell_type": "code",
   "execution_count": 74,
   "metadata": {},
   "outputs": [
    {
     "data": {
      "text/plain": [
       "5.0"
      ]
     },
     "execution_count": 74,
     "metadata": {},
     "output_type": "execute_result"
    }
   ],
   "source": [
    "Soma_int_float = 2 + 3.0\n",
    "Soma_int_float"
   ]
  },
  {
   "cell_type": "markdown",
   "metadata": {},
   "source": [
    "#### A divisão inteira pode pegar somente a parte inteira da divisão."
   ]
  },
  {
   "cell_type": "code",
   "execution_count": 75,
   "metadata": {
    "colab": {},
    "colab_type": "code",
    "id": "gMM0SOzvyDFr"
   },
   "outputs": [
    {
     "name": "stdout",
     "output_type": "stream",
     "text": [
      "4\n"
     ]
    }
   ],
   "source": [
    "integer_division = 12 // 3  # não é um tipo de arredondamento\n",
    "print(integer_division)"
   ]
  },
  {
   "cell_type": "markdown",
   "metadata": {},
   "source": [
    "#### E o [comando](https://www.freecodecamp.org/news/the-python-modulo-operator-what-does-the-symbol-mean-in-python-solved/) a seguir, alguém poderia explicar?"
   ]
  },
  {
   "cell_type": "code",
   "execution_count": 76,
   "metadata": {
    "colab": {},
    "colab_type": "code",
    "id": "rWIsSER1yDFt"
   },
   "outputs": [
    {
     "name": "stdout",
     "output_type": "stream",
     "text": [
      "2\n"
     ]
    }
   ],
   "source": [
    "remainder = 12 % 5\n",
    "print(remainder)"
   ]
  },
  {
   "cell_type": "code",
   "execution_count": 77,
   "metadata": {
    "colab": {},
    "colab_type": "code",
    "id": "HJhwLt8ByDFv"
   },
   "outputs": [
    {
     "name": "stdout",
     "output_type": "stream",
     "text": [
      "1\n"
     ]
    }
   ],
   "source": [
    "x = 37\n",
    "remainder = x % 2\n",
    "print(remainder)"
   ]
  },
  {
   "cell_type": "markdown",
   "metadata": {
    "colab": {},
    "colab_type": "code",
    "id": "ddpSqIPKyDFx"
   },
   "source": [
    "#### Em quais situações esse tipo de comando nos ajuda?"
   ]
  },
  {
   "cell_type": "markdown",
   "metadata": {
    "colab_type": "text",
    "id": "8JEsbzTjyDFz"
   },
   "source": [
    "### Variáveis podem ser palavras? Frases?"
   ]
  },
  {
   "cell_type": "markdown",
   "metadata": {},
   "source": [
    "##### O [slice](https://www.digitalocean.com/community/tutorials/how-to-index-and-slice-strings-in-python-3) é uma operação muito comum em python."
   ]
  },
  {
   "cell_type": "code",
   "execution_count": 78,
   "metadata": {
    "colab": {},
    "colab_type": "code",
    "id": "wMsyMETeyDF0"
   },
   "outputs": [],
   "source": [
    "my_string = \"Hello, world!\"\n",
    "single_quote_string = 'Hello, world!'"
   ]
  },
  {
   "cell_type": "code",
   "execution_count": 79,
   "metadata": {
    "colab": {},
    "colab_type": "code",
    "id": "WX4-KiozyDF6"
   },
   "outputs": [
    {
     "name": "stdout",
     "output_type": "stream",
     "text": [
      "Hello World!\n",
      "H\n",
      "llo\n",
      "llo World!\n",
      "Hello World!Hello World!\n"
     ]
    }
   ],
   "source": [
    "str = 'Hello World!'\n",
    "\n",
    "print (str)          # imprimi a string completa\n",
    "print (str[0])       # imprimi o primeiro caracter da string\n",
    "print (str[2:5])     # imprimi do terceiro ao quinto caracter\n",
    "print (str[2:])      # imprimi os caracteres a partir do terceiro\n",
    "print (str * 2)      # imprimi a string duas vezes"
   ]
  },
  {
   "cell_type": "code",
   "execution_count": 80,
   "metadata": {
    "colab": {},
    "colab_type": "code",
    "id": "urmOYaCAyDF8"
   },
   "outputs": [],
   "source": [
    "string_with_quotes = \"Hello, it's me.\"\n",
    "another_with_quotes = 'He said \"You are amazing!\" yesterday.'"
   ]
  },
  {
   "cell_type": "code",
   "execution_count": 81,
   "metadata": {
    "colab": {},
    "colab_type": "code",
    "id": "NpJnb9uayDF-"
   },
   "outputs": [],
   "source": [
    "multiline = \"\"\"\n",
    "Hello, world.\n",
    "\n",
    "My name is Jose. Welcome to my program.\n",
    "\"\"\""
   ]
  },
  {
   "cell_type": "markdown",
   "metadata": {},
   "source": [
    "#### Vocẽs podem imprimir para ver como fica?"
   ]
  },
  {
   "cell_type": "markdown",
   "metadata": {},
   "source": [
    "#### como juntar palavras formar frases? Por que esse procedimento é tão importante? Como você usaria ele no trabalho do dia a dia?"
   ]
  },
  {
   "cell_type": "code",
   "execution_count": 82,
   "metadata": {
    "colab": {},
    "colab_type": "code",
    "id": "LBw8TCgKyDGA"
   },
   "outputs": [],
   "source": [
    "name = \"Jose\"\n",
    "greeting = \"Hello, \" + name"
   ]
  },
  {
   "cell_type": "markdown",
   "metadata": {},
   "source": [
    "#### É possível juntar número com uma palavra? "
   ]
  },
  {
   "cell_type": "code",
   "execution_count": 83,
   "metadata": {
    "colab": {},
    "colab_type": "code",
    "id": "t2Rds950yDGD"
   },
   "outputs": [
    {
     "ename": "TypeError",
     "evalue": "'str' object is not callable",
     "output_type": "error",
     "traceback": [
      "\u001b[0;31m---------------------------------------------------------------------------\u001b[0m",
      "\u001b[0;31mTypeError\u001b[0m                                 Traceback (most recent call last)",
      "\u001b[0;32m<ipython-input-83-f72133049769>\u001b[0m in \u001b[0;36m<module>\u001b[0;34m\u001b[0m\n\u001b[0;32m----> 1\u001b[0;31m \u001b[0mage\u001b[0m \u001b[0;34m=\u001b[0m \u001b[0mstr\u001b[0m\u001b[0;34m(\u001b[0m\u001b[0;36m34\u001b[0m\u001b[0;34m)\u001b[0m\u001b[0;34m\u001b[0m\u001b[0;34m\u001b[0m\u001b[0m\n\u001b[0m\u001b[1;32m      2\u001b[0m \u001b[0mage\u001b[0m \u001b[0;34m=\u001b[0m \u001b[0;34m\"You are \"\u001b[0m \u001b[0;34m+\u001b[0m \u001b[0mage\u001b[0m\u001b[0;34m\u001b[0m\u001b[0;34m\u001b[0m\u001b[0m\n\u001b[1;32m      3\u001b[0m \u001b[0mprint\u001b[0m\u001b[0;34m(\u001b[0m\u001b[0mage\u001b[0m\u001b[0;34m)\u001b[0m\u001b[0;34m\u001b[0m\u001b[0;34m\u001b[0m\u001b[0m\n",
      "\u001b[0;31mTypeError\u001b[0m: 'str' object is not callable"
     ]
    }
   ],
   "source": [
    "age = str(34)\n",
    "age = \"You are \" + age\n",
    "print(age)"
   ]
  },
  {
   "cell_type": "code",
   "execution_count": 84,
   "metadata": {
    "colab": {},
    "colab_type": "code",
    "id": "y_LmXgrtyDGF"
   },
   "outputs": [
    {
     "name": "stdout",
     "output_type": "stream",
     "text": [
      "I am 34\n"
     ]
    }
   ],
   "source": [
    "age = 34\n",
    "another_greeting = f\"I am {age}\"\n",
    "print(another_greeting)"
   ]
  },
  {
   "cell_type": "markdown",
   "metadata": {},
   "source": [
    "#### Há alguma [maneira diferente de fazer isso](https://pyformat.info/)?"
   ]
  },
  {
   "cell_type": "code",
   "execution_count": 85,
   "metadata": {
    "colab": {},
    "colab_type": "code",
    "id": "9Cy29YzHyDGI"
   },
   "outputs": [
    {
     "name": "stdout",
     "output_type": "stream",
     "text": [
      "I am 999\n"
     ]
    }
   ],
   "source": [
    "age = 999\n",
    "another_greeting = \"I am {}\".format(age)\n",
    "print(another_greeting)"
   ]
  },
  {
   "cell_type": "markdown",
   "metadata": {},
   "source": [
    "#### Vamos atualizar o valor de age?"
   ]
  },
  {
   "cell_type": "code",
   "execution_count": 86,
   "metadata": {
    "colab": {},
    "colab_type": "code",
    "id": "GH-ZGxByyDGK"
   },
   "outputs": [
    {
     "name": "stdout",
     "output_type": "stream",
     "text": [
      "I am 999\n"
     ]
    }
   ],
   "source": [
    "age = 78\n",
    "print(another_greeting)"
   ]
  },
  {
   "cell_type": "markdown",
   "metadata": {},
   "source": [
    "#### Tem como solucionar esse problema?"
   ]
  },
  {
   "cell_type": "code",
   "execution_count": 87,
   "metadata": {
    "colab": {},
    "colab_type": "code",
    "id": "o5wJXCm9yDGM"
   },
   "outputs": [
    {
     "name": "stdout",
     "output_type": "stream",
     "text": [
      "I am 204\n"
     ]
    }
   ],
   "source": [
    "another_greeting = \"I am {age}\"\n",
    "final_greeting = another_greeting.format(age = 204)\n",
    "print(final_greeting)"
   ]
  },
  {
   "cell_type": "markdown",
   "metadata": {
    "colab_type": "text",
    "id": "CGTdH0HoyDGO"
   },
   "source": [
    "### Quem sabe um pouco de interação"
   ]
  },
  {
   "cell_type": "code",
   "execution_count": 91,
   "metadata": {
    "colab": {},
    "colab_type": "code",
    "id": "4I2l8-qsyDGO"
   },
   "outputs": [
    {
     "name": "stdin",
     "output_type": "stream",
     "text": [
      "Enter your name:  maria\n"
     ]
    },
    {
     "name": "stdout",
     "output_type": "stream",
     "text": [
      "Hello maria. My name is Elis.\n"
     ]
    }
   ],
   "source": [
    "my_name = \"Elis\"\n",
    "your_name = input(\"Enter your name: \")\n",
    "\n",
    "print(f\"Hello {your_name}. My name is {my_name}.\")"
   ]
  },
  {
   "cell_type": "code",
   "execution_count": 92,
   "metadata": {
    "colab": {},
    "colab_type": "code",
    "id": "a4TYcviSyDGR"
   },
   "outputs": [
    {
     "name": "stdin",
     "output_type": "stream",
     "text": [
      "Enter your age:  35\n"
     ]
    },
    {
     "name": "stdout",
     "output_type": "stream",
     "text": [
      "You have lived for 420 months.\n"
     ]
    }
   ],
   "source": [
    "age = int(input(\"Enter your age: \"))\n",
    "print(f\"You have lived for {age * 12} months.\")"
   ]
  },
  {
   "cell_type": "markdown",
   "metadata": {
    "colab": {},
    "colab_type": "code",
    "id": "cwy0UKLcyDGS"
   },
   "source": [
    "#### Para brincar um pouco, calcule a quantidade de segundos ao invés de meses."
   ]
  },
  {
   "cell_type": "code",
   "execution_count": 93,
   "metadata": {},
   "outputs": [
    {
     "name": "stdin",
     "output_type": "stream",
     "text": [
      "Enter your age:  27\n"
     ]
    },
    {
     "name": "stdout",
     "output_type": "stream",
     "text": [
      "You have lived for 839808000 seconds.\n"
     ]
    }
   ],
   "source": [
    "age = int(input(\"Enter your age: \"))\n",
    "print(f\"You have lived for {age * 12 * 30 * 24 * 60 * 60} seconds.\")"
   ]
  },
  {
   "cell_type": "markdown",
   "metadata": {
    "colab_type": "text",
    "id": "U0J4I_DqyDGU"
   },
   "source": [
    "### Já tivemos um primeiro contato com as variáveis, agora podemos fazer algumas comparações?"
   ]
  },
  {
   "cell_type": "markdown",
   "metadata": {},
   "source": [
    "#### Vamos ver os sinais de comparação mais importantes."
   ]
  },
  {
   "cell_type": "markdown",
   "metadata": {
    "colab": {},
    "colab_type": "code",
    "id": "zr7RXDZEyDGW"
   },
   "source": [
    "### A == B  (vamos verificar se A é igual a B)\n",
    "### A > B (vamos verificar se A é maior que B)\n",
    "### A < B (vamos verificar se B é maior que A)\n",
    "### A >= B (vamos verificar se A é maior ou igual a B)\n",
    "### A != B (Vamos verificar se A é diferente de B)"
   ]
  },
  {
   "cell_type": "code",
   "execution_count": 99,
   "metadata": {},
   "outputs": [
    {
     "name": "stdout",
     "output_type": "stream",
     "text": [
      "A == B: False\n",
      "A > B: True\n",
      "A < B: False\n",
      "A >= B: True\n",
      "A <= B: False\n",
      "A != B: True\n"
     ]
    }
   ],
   "source": [
    "A = 150\n",
    "B = 140\n",
    "print(\"A == B:\", A == B)\n",
    "print(\"A > B:\", A > B)\n",
    "print(\"A < B:\", A < B)\n",
    "print(\"A >= B:\", A >= B)\n",
    "print(\"A <= B:\", A <= B)\n",
    "print(\"A != B:\", A != B)"
   ]
  },
  {
   "cell_type": "markdown",
   "metadata": {},
   "source": [
    "#### O comparativo vale palavras também? Vamos comparar a variável `my_name` com a variável `name`."
   ]
  },
  {
   "cell_type": "code",
   "execution_count": 104,
   "metadata": {
    "colab": {},
    "colab_type": "code",
    "id": "CaVaN6C6yDGY"
   },
   "outputs": [
    {
     "name": "stdout",
     "output_type": "stream",
     "text": [
      "name == my_name: False\n"
     ]
    }
   ],
   "source": [
    "name = \"EliS\"\n",
    "print(\"name == my_name:\", name == my_name)"
   ]
  },
  {
   "cell_type": "markdown",
   "metadata": {
    "colab_type": "text",
    "id": "YV-Jkc3yyDGa"
   },
   "source": [
    "### E se for necessário utilizar multiplas condições?"
   ]
  },
  {
   "cell_type": "code",
   "execution_count": 105,
   "metadata": {
    "colab": {},
    "colab_type": "code",
    "id": "CgSwXLAHyDGa"
   },
   "outputs": [],
   "source": [
    "name = \"EliS\"\n",
    "name_2 = \"Elis\"\n",
    "name_3 = \"ElIs\""
   ]
  },
  {
   "cell_type": "markdown",
   "metadata": {},
   "source": [
    "#### `or`: A ação será executada se alguma condição for satisfeita \n",
    "#### `and`: A ação será executada se todas condições forem satisfeitas "
   ]
  },
  {
   "cell_type": "markdown",
   "metadata": {},
   "source": [
    "#### Vamos fazer um print [condicional]()?"
   ]
  },
  {
   "cell_type": "code",
   "execution_count": 106,
   "metadata": {},
   "outputs": [
    {
     "name": "stdout",
     "output_type": "stream",
     "text": [
      "EliS\n"
     ]
    }
   ],
   "source": [
    "if name == my_name or name_3 == my_name or name_2 == my_name:\n",
    "    print (name)"
   ]
  },
  {
   "cell_type": "markdown",
   "metadata": {},
   "source": [
    "#### Vamos fazer um print condicional?"
   ]
  },
  {
   "cell_type": "code",
   "execution_count": 107,
   "metadata": {
    "colab": {},
    "colab_type": "code",
    "id": "DVq4LrwnyDGc"
   },
   "outputs": [],
   "source": [
    "if name == my_name and name_3 == my_name and name_2 == my_name:\n",
    "    print (name)"
   ]
  },
  {
   "cell_type": "markdown",
   "metadata": {
    "colab_type": "text",
    "id": "LgmuIhSQyDGe"
   },
   "source": [
    "#### E se em uma aplicação for necessário ter $1000$ nomes, vamos ter que definir $1000$ variáveis? Qual a melhor maneira? Podemos usar uma [lista](https://docs.python.org/2/tutorial/datastructures.html)."
   ]
  },
  {
   "cell_type": "code",
   "execution_count": 108,
   "metadata": {
    "colab": {},
    "colab_type": "code",
    "id": "aR_idxDxyDGe"
   },
   "outputs": [],
   "source": [
    "#maneira 1:\n",
    "friend1 = \"Rolf\"\n",
    "friend2 = \"Bob\"\n",
    "friend3 = \"Anne\"\n",
    "\n",
    "#maneira 2\n",
    "friend = [\"Rolf\", \n",
    "          \"Anne\", \n",
    "          \"Bob\"]"
   ]
  },
  {
   "cell_type": "markdown",
   "metadata": {},
   "source": [
    "#### Para imprimir elementos de uma lista, o primeiro elemento da lista é localizado pelo `index 0`, index = localizador."
   ]
  },
  {
   "cell_type": "code",
   "execution_count": 109,
   "metadata": {
    "colab": {},
    "colab_type": "code",
    "id": "PMi51Hl9yDGg"
   },
   "outputs": [
    {
     "name": "stdout",
     "output_type": "stream",
     "text": [
      "Rolf\n"
     ]
    }
   ],
   "source": [
    "print (friend[0])"
   ]
  },
  {
   "cell_type": "markdown",
   "metadata": {},
   "source": [
    "#### O comprimento de uma lista é dado pela função [`len()`](https://docs.python.org/pt-br/3/library/functions.html#len), uma das funções [`Built in`](https://docs.python.org/pt-br/3/library/functions.html) do Python."
   ]
  },
  {
   "cell_type": "code",
   "execution_count": 110,
   "metadata": {
    "colab": {},
    "colab_type": "code",
    "id": "USV_WEp4yDGi"
   },
   "outputs": [
    {
     "data": {
      "text/plain": [
       "3"
      ]
     },
     "execution_count": 110,
     "metadata": {},
     "output_type": "execute_result"
    }
   ],
   "source": [
    "len(friend)"
   ]
  },
  {
   "cell_type": "markdown",
   "metadata": {},
   "source": [
    "#### O valor máximo contido em uma lista pode ser obtido com a função [`max()`](https://docs.python.org/pt-br/3/library/functions.html#max)."
   ]
  },
  {
   "cell_type": "code",
   "execution_count": 111,
   "metadata": {
    "colab": {},
    "colab_type": "code",
    "id": "eXi2cS5QyDGk"
   },
   "outputs": [
    {
     "data": {
      "text/plain": [
       "'Rolf'"
      ]
     },
     "execution_count": 111,
     "metadata": {},
     "output_type": "execute_result"
    }
   ],
   "source": [
    "max(friend)"
   ]
  },
  {
   "cell_type": "markdown",
   "metadata": {},
   "source": [
    "#### O valor máximo contido em uma lista pode ser obtido com a função [`min()`](https://docs.python.org/pt-br/3/library/functions.html#min)."
   ]
  },
  {
   "cell_type": "code",
   "execution_count": 112,
   "metadata": {
    "colab": {},
    "colab_type": "code",
    "id": "woBiyk3-yDGm"
   },
   "outputs": [
    {
     "data": {
      "text/plain": [
       "'Anne'"
      ]
     },
     "execution_count": 112,
     "metadata": {},
     "output_type": "execute_result"
    }
   ],
   "source": [
    "min(friend)"
   ]
  },
  {
   "cell_type": "markdown",
   "metadata": {},
   "source": [
    "#### Podemos adicionar ou remover elementos com a função [`append()`](https://towardsdatascience.com/append-in-python-41c37453400)."
   ]
  },
  {
   "cell_type": "code",
   "execution_count": 113,
   "metadata": {
    "colab": {},
    "colab_type": "code",
    "id": "cP54Dm8NyDGo"
   },
   "outputs": [
    {
     "ename": "TypeError",
     "evalue": "'str' object is not callable",
     "output_type": "error",
     "traceback": [
      "\u001b[0;31m---------------------------------------------------------------------------\u001b[0m",
      "\u001b[0;31mTypeError\u001b[0m                                 Traceback (most recent call last)",
      "\u001b[0;32m<ipython-input-113-9ea7accc428d>\u001b[0m in \u001b[0;36m<module>\u001b[0;34m\u001b[0m\n\u001b[0;32m----> 1\u001b[0;31m \u001b[0mfriend\u001b[0m\u001b[0;34m.\u001b[0m\u001b[0mappend\u001b[0m\u001b[0;34m(\u001b[0m\u001b[0mstr\u001b[0m\u001b[0;34m(\u001b[0m\u001b[0;36m3\u001b[0m\u001b[0;34m)\u001b[0m\u001b[0;34m)\u001b[0m\u001b[0;34m\u001b[0m\u001b[0;34m\u001b[0m\u001b[0m\n\u001b[0m\u001b[1;32m      2\u001b[0m \u001b[0mprint\u001b[0m \u001b[0;34m(\u001b[0m\u001b[0mfriend\u001b[0m\u001b[0;34m)\u001b[0m\u001b[0;34m\u001b[0m\u001b[0;34m\u001b[0m\u001b[0m\n",
      "\u001b[0;31mTypeError\u001b[0m: 'str' object is not callable"
     ]
    }
   ],
   "source": [
    "friend.append(str(3))\n",
    "print (friend)"
   ]
  },
  {
   "cell_type": "markdown",
   "metadata": {},
   "source": [
    "#### Como podemos localizar algum elemento específico?"
   ]
  },
  {
   "cell_type": "code",
   "execution_count": 114,
   "metadata": {
    "colab": {},
    "colab_type": "code",
    "id": "JZNWZ1wByDGq"
   },
   "outputs": [
    {
     "data": {
      "text/plain": [
       "1"
      ]
     },
     "execution_count": 114,
     "metadata": {},
     "output_type": "execute_result"
    }
   ],
   "source": [
    "friend.index('Anne')"
   ]
  },
  {
   "cell_type": "markdown",
   "metadata": {
    "colab": {},
    "colab_type": "code",
    "id": "c2nHW_ElyDGu"
   },
   "source": [
    "#### É considerada boa prática fazer listas com apenas um tipo de informação, ou seja, adicionar o número 3 (mesmo que em formato de string) na lista friend, não é considerado uam boa prática."
   ]
  },
  {
   "cell_type": "markdown",
   "metadata": {},
   "source": [
    "#### podemos ainda remover um elemento."
   ]
  },
  {
   "cell_type": "code",
   "execution_count": 115,
   "metadata": {},
   "outputs": [
    {
     "name": "stdout",
     "output_type": "stream",
     "text": [
      "1 [1, 2, 3]\n",
      "2 [2, 3]\n",
      "3 [3]\n"
     ]
    }
   ],
   "source": [
    "lst = [1, 2, 3]\n",
    "for i in lst[:]:\n",
    "    for i in lst[:]:\n",
    "        print(i, lst)\n",
    "        lst.remove(i)"
   ]
  },
  {
   "cell_type": "code",
   "execution_count": 116,
   "metadata": {
    "colab": {},
    "colab_type": "code",
    "id": "Uq68W5hQyDGx"
   },
   "outputs": [
    {
     "data": {
      "text/plain": [
       "['Rolf', 'Anne', 'Bob']"
      ]
     },
     "execution_count": 116,
     "metadata": {},
     "output_type": "execute_result"
    }
   ],
   "source": [
    "#friend.remove(2)\n",
    "#friend.remove('Rolf')\n",
    "friend"
   ]
  },
  {
   "cell_type": "markdown",
   "metadata": {},
   "source": [
    "#### Vamos trabalhar com uma lista de números agora."
   ]
  },
  {
   "cell_type": "code",
   "execution_count": 117,
   "metadata": {
    "colab": {},
    "colab_type": "code",
    "id": "eF3VWckiyDGy"
   },
   "outputs": [
    {
     "data": {
      "text/plain": [
       "585"
      ]
     },
     "execution_count": 117,
     "metadata": {},
     "output_type": "execute_result"
    }
   ],
   "source": [
    "import random\n",
    "lista_teste = random.sample(range(1, 100), 10)\n",
    "sum(lista_teste)"
   ]
  },
  {
   "cell_type": "code",
   "execution_count": 118,
   "metadata": {
    "colab": {},
    "colab_type": "code",
    "id": "k_SEEVhayDG0"
   },
   "outputs": [
    {
     "data": {
      "text/plain": [
       "10"
      ]
     },
     "execution_count": 118,
     "metadata": {},
     "output_type": "execute_result"
    }
   ],
   "source": [
    "len(lista_teste)"
   ]
  },
  {
   "cell_type": "markdown",
   "metadata": {
    "colab_type": "text",
    "id": "YC0vQBkfyDG4"
   },
   "source": [
    "### Que tal adiconarmos uma coisa diferente, chamada ['for loop'](https://realpython.com/python-for-loop/)."
   ]
  },
  {
   "cell_type": "markdown",
   "metadata": {},
   "source": [
    "#### Vamos criar uma estrutura [`for`](https://docs.python.org/3/tutorial/controlflow.html)."
   ]
  },
  {
   "cell_type": "code",
   "execution_count": 119,
   "metadata": {
    "colab": {},
    "colab_type": "code",
    "id": "dW0WeCnyyDG5"
   },
   "outputs": [
    {
     "name": "stdout",
     "output_type": "stream",
     "text": [
      "Rolf\n",
      "Anne\n",
      "Bob\n"
     ]
    }
   ],
   "source": [
    "for i in range (0, len(friend)):\n",
    "    print (friend[i])"
   ]
  },
  {
   "cell_type": "code",
   "execution_count": 120,
   "metadata": {
    "colab": {},
    "colab_type": "code",
    "id": "yD2n2syDyDG7"
   },
   "outputs": [
    {
     "name": "stdout",
     "output_type": "stream",
     "text": [
      "Rolf\n",
      "Anne\n",
      "Bob\n"
     ]
    }
   ],
   "source": [
    "for amigo in friend:\n",
    "    print(amigo)"
   ]
  },
  {
   "cell_type": "markdown",
   "metadata": {},
   "source": [
    "#### Podemos fazer um loop duplo?"
   ]
  },
  {
   "cell_type": "code",
   "execution_count": 121,
   "metadata": {
    "colab": {},
    "colab_type": "code",
    "id": "7o9gXdkfyDG8"
   },
   "outputs": [
    {
     "name": "stdout",
     "output_type": "stream",
     "text": [
      "Rolf   12\n",
      "Rolf   14\n",
      "Rolf   10\n",
      "Anne   12\n",
      "Anne   14\n",
      "Anne   10\n",
      "Bob   12\n",
      "Bob   14\n",
      "Bob   10\n"
     ]
    }
   ],
   "source": [
    "idade = [12, 14, 10]\n",
    "for i in range (0, len(friend)):\n",
    "    for j in range (0, len(idade)):\n",
    "        print (friend[i], ' ', idade[j])"
   ]
  },
  {
   "cell_type": "markdown",
   "metadata": {
    "colab_type": "text",
    "id": "L6yAu8n8yDG-"
   },
   "source": [
    "#### Podemos fazer uma lista de [listas](https://www.geeksforgeeks.org/python-list/)."
   ]
  },
  {
   "cell_type": "code",
   "execution_count": 122,
   "metadata": {
    "colab": {},
    "colab_type": "code",
    "id": "a2uBHIxeyDG-"
   },
   "outputs": [
    {
     "name": "stdout",
     "output_type": "stream",
     "text": [
      "24\n",
      "Bob\n"
     ]
    }
   ],
   "source": [
    "friends = [[\"Rolf\", 24], [\"Bob\", 30], [\"Anne\", 27]]\n",
    "print(friends[0][1])  # 24\n",
    "print(friends[1][0])  # Bob"
   ]
  },
  {
   "cell_type": "markdown",
   "metadata": {
    "colab": {},
    "colab_type": "code",
    "id": "2qtSSj0kyDHB"
   },
   "source": [
    "#### \"Tem como remover apenas 'Rolf'\", você pergunta?"
   ]
  },
  {
   "cell_type": "code",
   "execution_count": 123,
   "metadata": {},
   "outputs": [],
   "source": [
    "lst = friends\n",
    "#lst.remove[[\"Rolf\"]]    \n",
    "#del lst[0]\n",
    "#lst"
   ]
  },
  {
   "cell_type": "markdown",
   "metadata": {
    "colab": {},
    "colab_type": "code",
    "id": "ivwr7kCxyDHE"
   },
   "source": [
    "#### Como faço para adicionar uma nova lista em uma lista de listas?"
   ]
  },
  {
   "cell_type": "code",
   "execution_count": 124,
   "metadata": {},
   "outputs": [
    {
     "data": {
      "text/plain": [
       "[['Rolf', 24], ['Bob', 30], ['Anne', 27], ['Maria', 29]]"
      ]
     },
     "execution_count": 124,
     "metadata": {},
     "output_type": "execute_result"
    }
   ],
   "source": [
    "lst.append(['Maria', 29])\n",
    "lst"
   ]
  },
  {
   "cell_type": "markdown",
   "metadata": {
    "colab_type": "text",
    "id": "z2QQF7YGyDHI"
   },
   "source": [
    "### Já ouviu falar em [tuplas](https://www.tutorialspoint.com/python/python_tuples.htm)?"
   ]
  },
  {
   "cell_type": "markdown",
   "metadata": {},
   "source": [
    "#### Uma tupla é uma coleção de objetos ordenados e imutáveis. tuplas são sequências, assim como listas. As diferenças entre tuplas e listas são: \n",
    "\n",
    "- As tuplas não podem ser alteradas, \n",
    "- Ao contrário das listas e as tuplas usam parênteses, enquanto as listas usam colchetes. "
   ]
  },
  {
   "cell_type": "code",
   "execution_count": 125,
   "metadata": {
    "colab": {},
    "colab_type": "code",
    "id": "ICrCqIaVyDHJ"
   },
   "outputs": [],
   "source": [
    "amigos_novos = ('João', 'Lindomar')"
   ]
  },
  {
   "cell_type": "markdown",
   "metadata": {},
   "source": [
    "#### Tenta remover 'João'."
   ]
  },
  {
   "cell_type": "code",
   "execution_count": 126,
   "metadata": {
    "colab": {},
    "colab_type": "code",
    "id": "CLTY4tZGyDHK"
   },
   "outputs": [
    {
     "ename": "AttributeError",
     "evalue": "'tuple' object has no attribute 'remove'",
     "output_type": "error",
     "traceback": [
      "\u001b[0;31m---------------------------------------------------------------------------\u001b[0m",
      "\u001b[0;31mAttributeError\u001b[0m                            Traceback (most recent call last)",
      "\u001b[0;32m<ipython-input-126-b40433e4455c>\u001b[0m in \u001b[0;36m<module>\u001b[0;34m\u001b[0m\n\u001b[0;32m----> 1\u001b[0;31m \u001b[0mamigos_novos\u001b[0m\u001b[0;34m.\u001b[0m\u001b[0mremove\u001b[0m\u001b[0;34m(\u001b[0m\u001b[0;34m'João'\u001b[0m\u001b[0;34m)\u001b[0m\u001b[0;34m\u001b[0m\u001b[0;34m\u001b[0m\u001b[0m\n\u001b[0m",
      "\u001b[0;31mAttributeError\u001b[0m: 'tuple' object has no attribute 'remove'"
     ]
    }
   ],
   "source": [
    " amigos_novos.remove('João')"
   ]
  },
  {
   "cell_type": "markdown",
   "metadata": {
    "colab": {},
    "colab_type": "code",
    "id": "_Wo5my2uyDHM"
   },
   "source": [
    "#### Por que trabalhamos com tuples?"
   ]
  },
  {
   "cell_type": "markdown",
   "metadata": {
    "colab_type": "text",
    "id": "eE92_k6syDHP"
   },
   "source": [
    "####  <span style = \"color:blue\">Prática Independente.</span>\n",
    "\n",
    "1. Vocês terão 15 minutos para essa tarefa. \n",
    "2. Vocês receberão duas listas e sua tarefa é encontrar os elementos comuns em ambas, salvando-os em uma terceira lista.\n",
    "3. A lista de elementos comuns não pode conter elementos repetidos.\n",
    "4. As listas são:\n",
    "    1. lista1 = [1, 100, 23, 40, 23, 50, 50, 49, 50]\n",
    "    2. lista2 = [30, 50, 80, 70, 40, 40, 34, 32, 40, 50]"
   ]
  },
  {
   "cell_type": "code",
   "execution_count": null,
   "metadata": {
    "colab": {},
    "colab_type": "code",
    "id": "y55lsAMVyDHP"
   },
   "outputs": [],
   "source": []
  },
  {
   "cell_type": "markdown",
   "metadata": {},
   "source": [
    "####  <span style = \"color:red\">Código Original.</span>\n",
    "<!---\n",
    "lista1 = [1, 100, 23, 40, 23, 50, 50, 49, 50]\n",
    "lista2 = [30, 50, 80, 70, 40, 40, 34, 32, 40, 50]\n",
    "    \n",
    "set1 = set(lista1)\n",
    "set2 = set(lista2)\n",
    "set3 = set1.intersection(set2)\n",
    "set3\n",
    "-->"
   ]
  },
  {
   "cell_type": "markdown",
   "metadata": {
    "colab_type": "text",
    "id": "_4vLqi7GyDHS"
   },
   "source": [
    "### Conjuntos."
   ]
  },
  {
   "cell_type": "markdown",
   "metadata": {},
   "source": [
    "#### Em Python, um [Conjunto](http://theautomatic.net/2019/05/29/all-about-python-sets/#:~:text=We%20can%20test%20if%20two,normal%20%E2%80%9C%3D%3D%E2%80%9D%20operator.&text=Notice%20%E2%80%93%20since%20sets%20are%20unordered,same%20elements%2C%20regardless%20of%20order.) é uma coleção não ordenada de elementos únicos.\n",
    "\n",
    "#### [Conjuntos]() são declarados com chaves `{}` e novos elementos podem ser adicionados com o método [`.add()`](https://www.geeksforgeeks.org/set-add-python/)."
   ]
  },
  {
   "cell_type": "code",
   "execution_count": 128,
   "metadata": {
    "colab": {},
    "colab_type": "code",
    "id": "ilEHp_Y3yDHT"
   },
   "outputs": [
    {
     "name": "stdout",
     "output_type": "stream",
     "text": [
      "{'Luciana', 'Maria', 'Marta', 'Marcos'}\n"
     ]
    }
   ],
   "source": [
    "#como declarar?\n",
    "amigos_mala = {'Maria', 'Luciana'}\n",
    "\n",
    "#adicionar novos elementos\n",
    "amigos_mala.add('Marcos')\n",
    "amigos_mala.add('Marta')\n",
    "print(amigos_mala)"
   ]
  },
  {
   "cell_type": "markdown",
   "metadata": {},
   "source": [
    "#### Também é possível remover elementos."
   ]
  },
  {
   "cell_type": "code",
   "execution_count": 129,
   "metadata": {},
   "outputs": [
    {
     "name": "stdout",
     "output_type": "stream",
     "text": [
      "{'Luciana', 'Maria', 'Marcos'}\n"
     ]
    }
   ],
   "source": [
    "amigos_mala.remove('Marta')\n",
    "print(amigos_mala)"
   ]
  },
  {
   "cell_type": "code",
   "execution_count": 130,
   "metadata": {},
   "outputs": [],
   "source": [
    "#### Ao adicionar novos elementos sua posição será aleatória."
   ]
  },
  {
   "cell_type": "code",
   "execution_count": 131,
   "metadata": {
    "colab": {},
    "colab_type": "code",
    "id": "4urwaC0ryDHU"
   },
   "outputs": [
    {
     "name": "stdout",
     "output_type": "stream",
     "text": [
      "{'Luciana', 'Maria', 'Pedro', 'Marcos'}\n"
     ]
    }
   ],
   "source": [
    "amigos_mala.add('Pedro')\n",
    "print(amigos_mala)"
   ]
  },
  {
   "cell_type": "markdown",
   "metadata": {
    "colab": {},
    "colab_type": "code",
    "id": "5A-bBuidyDHW"
   },
   "source": [
    "#### Por que trabalhos com [`set`](https://realpython.com/python-sets/)?"
   ]
  },
  {
   "cell_type": "markdown",
   "metadata": {},
   "source": [
    "##### Vamos criar um novo `set`."
   ]
  },
  {
   "cell_type": "code",
   "execution_count": 132,
   "metadata": {
    "colab": {},
    "colab_type": "code",
    "id": "486QrRLPyDHY"
   },
   "outputs": [],
   "source": [
    "amigos_DH = {'Luis', 'Marcos', 'Julia', 'Liz'}"
   ]
  },
  {
   "cell_type": "code",
   "execution_count": 133,
   "metadata": {
    "colab": {},
    "colab_type": "code",
    "id": "BhH9lBaVyDHa"
   },
   "outputs": [
    {
     "name": "stdout",
     "output_type": "stream",
     "text": [
      "{'Luciana', 'Maria', 'Pedro'}\n"
     ]
    }
   ],
   "source": [
    "mala_mas_nao_DH = amigos_mala.difference(amigos_DH)\n",
    "print (mala_mas_nao_DH)"
   ]
  },
  {
   "cell_type": "markdown",
   "metadata": {},
   "source": [
    "#### Vemos quais amigos exclusivos em ambos os `sets` com o método [`.symmetric_difference()`](https://beginnersbook.com/2019/04/python-set-symmetric_difference-method/)."
   ]
  },
  {
   "cell_type": "code",
   "execution_count": 134,
   "metadata": {
    "colab": {},
    "colab_type": "code",
    "id": "Ggs68t74yDHc"
   },
   "outputs": [
    {
     "data": {
      "text/plain": [
       "{'Julia', 'Liz', 'Luciana', 'Luis', 'Maria', 'Pedro'}"
      ]
     },
     "execution_count": 134,
     "metadata": {},
     "output_type": "execute_result"
    }
   ],
   "source": [
    "nao_esta_ambos = amigos_mala.symmetric_difference(amigos_DH)\n",
    "nao_esta_ambos"
   ]
  },
  {
   "cell_type": "markdown",
   "metadata": {},
   "source": [
    "#### A intersecção é feita com o método [`.intersection()`](https://www.geeksforgeeks.org/intersection-function-python/)."
   ]
  },
  {
   "cell_type": "code",
   "execution_count": 135,
   "metadata": {
    "colab": {},
    "colab_type": "code",
    "id": "2TpAJmJ_yDHf"
   },
   "outputs": [
    {
     "data": {
      "text/plain": [
       "{'Marcos'}"
      ]
     },
     "execution_count": 135,
     "metadata": {},
     "output_type": "execute_result"
    }
   ],
   "source": [
    "interseccao = amigos_mala.intersection(amigos_DH)\n",
    "interseccao"
   ]
  },
  {
   "cell_type": "markdown",
   "metadata": {},
   "source": [
    "#### A união dos conjuntos é realizada com o método [`.union()`](https://www.geeksforgeeks.org/union-function-python/)."
   ]
  },
  {
   "cell_type": "code",
   "execution_count": 136,
   "metadata": {
    "colab": {},
    "colab_type": "code",
    "id": "BCJKOxX4yDHg"
   },
   "outputs": [
    {
     "data": {
      "text/plain": [
       "{'Julia', 'Liz', 'Luciana', 'Luis', 'Marcos', 'Maria', 'Pedro'}"
      ]
     },
     "execution_count": 136,
     "metadata": {},
     "output_type": "execute_result"
    }
   ],
   "source": [
    "uniao = amigos_mala.union(amigos_DH)\n",
    "uniao"
   ]
  },
  {
   "cell_type": "markdown",
   "metadata": {},
   "source": [
    "#### Como a manipulação de listas pode se beneficiar dessas operações?"
   ]
  },
  {
   "cell_type": "code",
   "execution_count": 137,
   "metadata": {
    "colab": {},
    "colab_type": "code",
    "id": "RnckPzfMyDHi"
   },
   "outputs": [
    {
     "data": {
      "text/plain": [
       "{'Julia', 'Liz'}"
      ]
     },
     "execution_count": 137,
     "metadata": {},
     "output_type": "execute_result"
    }
   ],
   "source": [
    "lista = ['Julia', \n",
    "         'Liz', \n",
    "         'Luciana', \n",
    "         'Luis', \n",
    "         'Maria', \n",
    "         'Julia', \n",
    "         'Liz', \n",
    "         'Luciana', \n",
    "         'Luis', \n",
    "         'Maria']\n",
    "\n",
    "lista2 = ['Julia', \n",
    "          'Liz', \n",
    "          'Luciana2', \n",
    "          'Luis2', \n",
    "          'Maria2']\n",
    "\n",
    "interseccao_list = set(lista).intersection(set(lista2))\n",
    "interseccao_list"
   ]
  },
  {
   "cell_type": "markdown",
   "metadata": {
    "colab_type": "text",
    "id": "8LKDQyyeyDHm"
   },
   "source": [
    "### Dicionário."
   ]
  },
  {
   "cell_type": "markdown",
   "metadata": {},
   "source": [
    "#### Em Python, um [Dicionário](https://docs.python.org/3/c-api/dict.html?highlight=dictionary#dictionary-objects) é uma estrutura de dados que é mais geralmente conhecida como uma [matriz associativa](https://en.wikipedia.org/wiki/Associative_array). \n",
    "\n",
    "#### Um [dicionário](https://realpython.com/python-dicts/) consiste em uma coleção de pares de valores-chave. Cada par de valor-chave mapeia a chave para seu valor associado. Ele pode ser declarado com um par `chave: valor`."
   ]
  },
  {
   "cell_type": "code",
   "execution_count": 138,
   "metadata": {
    "colab": {},
    "colab_type": "code",
    "id": "smGExJ2MyDHm"
   },
   "outputs": [],
   "source": [
    "friend_ages = {\"Rolf\": 24, \"Adam\": 30, \"Anne\": 27, 'Zé': 24}"
   ]
  },
  {
   "cell_type": "markdown",
   "metadata": {},
   "source": [
    "#### Como encontrar valores em um dicionário?"
   ]
  },
  {
   "cell_type": "code",
   "execution_count": 139,
   "metadata": {
    "colab": {},
    "colab_type": "code",
    "id": "SPVw4IZEyDHn"
   },
   "outputs": [
    {
     "name": "stdout",
     "output_type": "stream",
     "text": [
      "24\n"
     ]
    }
   ],
   "source": [
    "print(friend_ages['Zé'])"
   ]
  },
  {
   "cell_type": "markdown",
   "metadata": {},
   "source": [
    "#### Como adicionar mais elementos?"
   ]
  },
  {
   "cell_type": "code",
   "execution_count": 140,
   "metadata": {
    "colab": {},
    "colab_type": "code",
    "id": "g7LPMXDgyDHp"
   },
   "outputs": [
    {
     "data": {
      "text/plain": [
       "{'Rolf': 24, 'Adam': 30, 'Anne': 27, 'Zé': 24, 'Breno': 33}"
      ]
     },
     "execution_count": 140,
     "metadata": {},
     "output_type": "execute_result"
    }
   ],
   "source": [
    "friend_ages['Breno'] = 33\n",
    "friend_ages"
   ]
  },
  {
   "cell_type": "markdown",
   "metadata": {},
   "source": [
    "#### Outros comandos que podem ajudar:"
   ]
  },
  {
   "cell_type": "code",
   "execution_count": 141,
   "metadata": {
    "colab": {},
    "colab_type": "code",
    "id": "wP7SFJZ_yDHq"
   },
   "outputs": [],
   "source": [
    "#friend_ages.keys()\n",
    "#friend_ages.values()\n",
    "#friend_ages.items()"
   ]
  },
  {
   "cell_type": "markdown",
   "metadata": {},
   "source": [
    "#### O método [`.values()`](https://www.geeksforgeeks.org/python-dictionary-values/#:~:text=values()%20is%20an%20inbuilt,available%20in%20a%20given%20dictionary.&text=Returns%3A,stored%20in%20a%20reversed%20manner.) retorna uma lista de todos os valores disponíveis em um determinado dicionário."
   ]
  },
  {
   "cell_type": "code",
   "execution_count": 142,
   "metadata": {
    "colab": {},
    "colab_type": "code",
    "id": "Yw1doPHyyDHs"
   },
   "outputs": [
    {
     "data": {
      "text/plain": [
       "dict_values([24, 30, 27, 24, 33])"
      ]
     },
     "execution_count": 142,
     "metadata": {},
     "output_type": "execute_result"
    }
   ],
   "source": [
    "friend_ages.values()"
   ]
  },
  {
   "cell_type": "markdown",
   "metadata": {},
   "source": [
    "#### O método [`popitem()`](https://www.programiz.com/python-programming/methods/dictionary/popitem) vai remover e retornar o último par de elementos (chave, valor) inserido no dicionário."
   ]
  },
  {
   "cell_type": "code",
   "execution_count": 143,
   "metadata": {
    "colab": {},
    "colab_type": "code",
    "id": "ZZgVMLSYyDHv"
   },
   "outputs": [],
   "source": [
    "key, value = friend_ages.popitem()"
   ]
  },
  {
   "cell_type": "markdown",
   "metadata": {},
   "source": [
    "#### O método [`.item()`](https://www.tutorialspoint.com/python/dictionary_items.htm) retorna uma lista de pares de tupla de dict (chave, valor)."
   ]
  },
  {
   "cell_type": "code",
   "execution_count": 144,
   "metadata": {
    "colab": {},
    "colab_type": "code",
    "id": "4Eu4sAoIyDHw"
   },
   "outputs": [
    {
     "data": {
      "text/plain": [
       "dict_items([('Rolf', 24), ('Adam', 30), ('Anne', 27), ('Zé', 24)])"
      ]
     },
     "execution_count": 144,
     "metadata": {},
     "output_type": "execute_result"
    }
   ],
   "source": [
    "friend_ages.items()"
   ]
  },
  {
   "cell_type": "code",
   "execution_count": 145,
   "metadata": {
    "colab": {},
    "colab_type": "code",
    "id": "xFoVdVXPyDHy"
   },
   "outputs": [
    {
     "data": {
      "text/plain": [
       "4"
      ]
     },
     "execution_count": 145,
     "metadata": {},
     "output_type": "execute_result"
    }
   ],
   "source": [
    "len(friend_ages)"
   ]
  },
  {
   "cell_type": "markdown",
   "metadata": {},
   "source": [
    "#### Podemos alterar o valor de uma das chaves."
   ]
  },
  {
   "cell_type": "code",
   "execution_count": 146,
   "metadata": {
    "colab": {},
    "colab_type": "code",
    "id": "HbGuE4mDyDHz"
   },
   "outputs": [
    {
     "name": "stdout",
     "output_type": "stream",
     "text": [
      "{'Rolf': 25, 'Adam': 30, 'Anne': 27, 'Zé': 24}\n"
     ]
    }
   ],
   "source": [
    "friend_ages[\"Rolf\"] = 25\n",
    "print(friend_ages)"
   ]
  },
  {
   "cell_type": "markdown",
   "metadata": {},
   "source": [
    "#### Pademos ainda converter uma lista de tuples em um dicionário, utilizando a função [`dict`](https://www.programiz.com/python-programming/methods/built-in/dict)."
   ]
  },
  {
   "cell_type": "code",
   "execution_count": 147,
   "metadata": {
    "colab": {},
    "colab_type": "code",
    "id": "TZnfUB-YyDH1"
   },
   "outputs": [
    {
     "name": "stdout",
     "output_type": "stream",
     "text": [
      "{'Rolf': 25, 'Adam': 30, 'Anne': 27, 'Zé': 24}\n"
     ]
    }
   ],
   "source": [
    "friends = [(\"Rolf\", 24), (\"Adam\", 30), (\"Anne\", 27)]\n",
    "friend_ages1 = dict(friends)\n",
    "print(friend_ages)"
   ]
  },
  {
   "cell_type": "code",
   "execution_count": 148,
   "metadata": {
    "colab": {},
    "colab_type": "code",
    "id": "WKTyK2qhyDH2"
   },
   "outputs": [
    {
     "data": {
      "text/plain": [
       "{'Rolf': 24, 'Adam': 30, 'Anne': 27}"
      ]
     },
     "execution_count": 148,
     "metadata": {},
     "output_type": "execute_result"
    }
   ],
   "source": [
    "#friend_ages['Rolf']\n",
    "friend_ages1"
   ]
  },
  {
   "cell_type": "markdown",
   "metadata": {
    "colab_type": "text",
    "id": "P25gvoqvyDH3"
   },
   "source": [
    "####  <span style = \"color:blue\">Prática Independente.</span>\n",
    "\n",
    "1. Vamos trabalhar com o dicionário `friend_ages`.\n",
    "2. Imprima somente os nomes dos amigos com idade igual ou superior à 25."
   ]
  },
  {
   "cell_type": "code",
   "execution_count": null,
   "metadata": {},
   "outputs": [],
   "source": []
  },
  {
   "cell_type": "markdown",
   "metadata": {},
   "source": [
    "####  <span style = \"color:red\">Código Original.</span>\n",
    "<!---\n",
    "friends_adultos = {k: v for (k,v) in friend_ages.items() if v > 25}\n",
    "friends_adultos\n",
    "-->"
   ]
  },
  {
   "cell_type": "markdown",
   "metadata": {
    "colab_type": "text",
    "id": "llPp1ZIdyDH3"
   },
   "source": [
    "### Essa parte é extra para vocês estudarem após a aula"
   ]
  },
  {
   "cell_type": "markdown",
   "metadata": {},
   "source": [
    "#### Estruturas [`while`](https://realpython.com/python-while-loop/) e [`if`.](https://www.guru99.com/if-loop-python-conditional-structures.html#:~:text=Python%20if%20Statement%20is%20used,code%20for%20the%20else%20condition.)"
   ]
  },
  {
   "cell_type": "code",
   "execution_count": 152,
   "metadata": {
    "colab": {},
    "colab_type": "code",
    "id": "uEfkL4guyDH4"
   },
   "outputs": [
    {
     "name": "stdout",
     "output_type": "stream",
     "text": [
      "A lista atual é: [27, 70, 86, 9, 77, 21, 89, 38, 64, 74]\n"
     ]
    },
    {
     "name": "stdin",
     "output_type": "stream",
     "text": [
      "Digite um número para ser excluído:  27\n"
     ]
    },
    {
     "name": "stdout",
     "output_type": "stream",
     "text": [
      "A lista atual é: [70, 86, 9, 77, 21, 89, 38, 64, 74]\n"
     ]
    },
    {
     "name": "stdin",
     "output_type": "stream",
     "text": [
      "Digite um número para ser excluído:  70\n"
     ]
    },
    {
     "name": "stdout",
     "output_type": "stream",
     "text": [
      "A lista atual é: [86, 9, 77, 21, 89, 38, 64, 74]\n"
     ]
    },
    {
     "name": "stdin",
     "output_type": "stream",
     "text": [
      "Digite um número para ser excluído:  86\n"
     ]
    },
    {
     "name": "stdout",
     "output_type": "stream",
     "text": [
      "A lista atual é: [9, 77, 21, 89, 38, 64, 74]\n"
     ]
    },
    {
     "name": "stdin",
     "output_type": "stream",
     "text": [
      "Digite um número para ser excluído:  9\n"
     ]
    },
    {
     "name": "stdout",
     "output_type": "stream",
     "text": [
      "A lista atual é: [77, 21, 89, 38, 64, 74]\n"
     ]
    },
    {
     "name": "stdin",
     "output_type": "stream",
     "text": [
      "Digite um número para ser excluído:  77\n"
     ]
    },
    {
     "name": "stdout",
     "output_type": "stream",
     "text": [
      "Vamos parar por aqui\n"
     ]
    }
   ],
   "source": [
    "import random\n",
    "lista_teste = random.sample(range(1, 100), 10)\n",
    "\n",
    "while len(lista_teste) > 5:\n",
    "    print(\"A lista atual é:\", lista_teste)\n",
    "    \n",
    "    user_input = int(input('Digite um número para ser excluído: '))\n",
    "    \n",
    "    if user_input in lista_teste:\n",
    "        lista_teste.remove(user_input)\n",
    "        \n",
    "print(\"Vamos parar por aqui\")"
   ]
  },
  {
   "cell_type": "code",
   "execution_count": 153,
   "metadata": {
    "colab": {},
    "colab_type": "code",
    "id": "0z64aBFCyDH6"
   },
   "outputs": [
    {
     "name": "stdout",
     "output_type": "stream",
     "text": [
      "Rolf is 25 years old.\n",
      "Anne is 37 years old.\n",
      "Charlie is 31 years old.\n",
      "Bob is 22 years old.\n"
     ]
    }
   ],
   "source": [
    "friends = [(\"Rolf\", 25), \n",
    "           (\"Anne\", 37), \n",
    "           (\"Charlie\", 31), \n",
    "           (\"Bob\", 22)]\n",
    "\n",
    "for name, age in friends:  \n",
    "    print(f\"{name} is {age} years old.\")"
   ]
  },
  {
   "cell_type": "code",
   "execution_count": 154,
   "metadata": {
    "colab": {},
    "colab_type": "code",
    "id": "TEKpkw6ByDH8"
   },
   "outputs": [
    {
     "name": "stdout",
     "output_type": "stream",
     "text": [
      "All cars built successfully. No faulty cars!\n",
      "All cars built successfully. No faulty cars!\n",
      "All cars built successfully. No faulty cars!\n",
      "Stopping the production line!\n"
     ]
    }
   ],
   "source": [
    "cars = [\"ok\", \n",
    "        \"ok\", \n",
    "        \"ok\", \n",
    "        \"faulty\", \n",
    "        \"ok\", \n",
    "        \"ok\"]\n",
    "\n",
    "for status in cars:\n",
    "    if status == \"faulty\":\n",
    "        print(\"Stopping the production line!\")\n",
    "        break\n",
    "\n",
    "    else:\n",
    "        print(\"All cars built successfully. No faulty cars!\")"
   ]
  },
  {
   "cell_type": "code",
   "execution_count": null,
   "metadata": {
    "colab": {},
    "colab_type": "code",
    "id": "wwyFPcnDyDH9"
   },
   "outputs": [],
   "source": []
  }
 ],
 "metadata": {
  "colab": {
   "name": "Primeira_Aula.ipynb",
   "provenance": []
  },
  "kernelspec": {
   "display_name": "Python 3",
   "language": "python",
   "name": "python3"
  },
  "language_info": {
   "codemirror_mode": {
    "name": "ipython",
    "version": 3
   },
   "file_extension": ".py",
   "mimetype": "text/x-python",
   "name": "python",
   "nbconvert_exporter": "python",
   "pygments_lexer": "ipython3",
   "version": "3.7.6"
  }
 },
 "nbformat": 4,
 "nbformat_minor": 4
}
